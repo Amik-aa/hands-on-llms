{
 "cells": [
  {
   "cell_type": "code",
   "execution_count": 2,
   "metadata": {},
   "outputs": [],
   "source": [
    "%load_ext autoreload\n",
    "%autoreload 2"
   ]
  },
  {
   "cell_type": "code",
   "execution_count": 3,
   "metadata": {},
   "outputs": [
    {
     "name": "stderr",
     "output_type": "stream",
     "text": [
      "/home/pauliusztin/anaconda3/envs/hands-on-llms/lib/python3.9/site-packages/tqdm/auto.py:21: TqdmWarning: IProgress not found. Please update jupyter and ipywidgets. See https://ipywidgets.readthedocs.io/en/stable/user_install.html\n",
      "  from .autonotebook import tqdm as notebook_tqdm\n"
     ]
    }
   ],
   "source": [
    "import sys\n",
    "sys.path.append(\"../modules\")\n",
    "\n",
    "from pathlib import Path\n",
    "from transformers import TrainingArguments\n",
    "from trl import SFTTrainer\n",
    "\n",
    "from common import constants\n",
    "from common.data import finqa\n",
    "from training import models"
   ]
  },
  {
   "cell_type": "markdown",
   "metadata": {},
   "source": [
    "## Load Datasets"
   ]
  },
  {
   "cell_type": "code",
   "execution_count": 4,
   "metadata": {},
   "outputs": [],
   "source": [
    "ROOT_DATASET_DIR = Path(\"../dataset\")"
   ]
  },
  {
   "cell_type": "code",
   "execution_count": 4,
   "metadata": {},
   "outputs": [
    {
     "name": "stderr",
     "output_type": "stream",
     "text": [
      "                                                                 \r"
     ]
    },
    {
     "data": {
      "text/plain": [
       "Dataset({\n",
       "    features: ['text'],\n",
       "    num_rows: 6251\n",
       "})"
      ]
     },
     "execution_count": 4,
     "metadata": {},
     "output_type": "execute_result"
    }
   ],
   "source": [
    "training_dataset = finqa.FinQADataset(\n",
    "    data_path=ROOT_DATASET_DIR / \"train.json\", scope = constants.Scope.TRAINING\n",
    "    ).to_huggingface()\n",
    "training_dataset"
   ]
  },
  {
   "cell_type": "code",
   "execution_count": 5,
   "metadata": {},
   "outputs": [
    {
     "name": "stdout",
     "output_type": "stream",
     "text": [
      "### SYSTEM: You are a professional financial advisor. Your task is to read a financial report as text and numbers and do the proper math calculations to answer the given question.\n",
      "\n",
      "### Human:\n",
      "         ### START_FINANCIAL_REPORT\n",
      "         ### PRE_TEXT:\n",
      "         interest rate to a variable interest rate based on the three-month libor plus 2.05% ( 2.05 % ) ( 2.34% ( 2.34 % ) as of october 31 , 2009 ) .\n",
      "if libor changes by 100 basis points , our annual interest expense would change by $ 3.8 million .\n",
      "foreign currency exposure as more fully described in note 2i .\n",
      "in the notes to consolidated financial statements contained in item 8 of this annual report on form 10-k , we regularly hedge our non-u.s .\n",
      "dollar-based exposures by entering into forward foreign currency exchange contracts .\n",
      "the terms of these contracts are for periods matching the duration of the underlying exposure and generally range from one month to twelve months .\n",
      "currently , our largest foreign currency exposure is the euro , primarily because our european operations have the highest proportion of our local currency denominated expenses .\n",
      "relative to foreign currency exposures existing at october 31 , 2009 and november 1 , 2008 , a 10% ( 10 % ) unfavorable movement in foreign currency exchange rates over the course of the year would not expose us to significant losses in earnings or cash flows because we hedge a high proportion of our year-end exposures against fluctuations in foreign currency exchange rates .\n",
      "the market risk associated with our derivative instruments results from currency exchange rate or interest rate movements that are expected to offset the market risk of the underlying transactions , assets and liabilities being hedged .\n",
      "the counterparties to the agreements relating to our foreign exchange instruments consist of a number of major international financial institutions with high credit ratings .\n",
      "we do not believe that there is significant risk of nonperformance by these counterparties because we continually monitor the credit ratings of such counterparties .\n",
      "while the contract or notional amounts of derivative financial instruments provide one measure of the volume of these transactions , they do not represent the amount of our exposure to credit risk .\n",
      "the amounts potentially subject to credit risk ( arising from the possible inability of counterparties to meet the terms of their contracts ) are generally limited to the amounts , if any , by which the counterparties 2019 obligations under the contracts exceed our obligations to the counterparties .\n",
      "the following table illustrates the effect that a 10% ( 10 % ) unfavorable or favorable movement in foreign currency exchange rates , relative to the u.s .\n",
      "dollar , would have on the fair value of our forward exchange contracts as of october 31 , 2009 and november 1 , 2008: .\n",
      "         ### TABLE:\n",
      "          | october 31 2009 | november 1 2008\n",
      "fair value of forward exchange contracts asset ( liability ) | $ 6427 | $ -23158 ( 23158 )\n",
      "fair value of forward exchange contracts after a 10% ( 10 % ) unfavorable movement in foreign currency exchange rates asset ( liability ) | $ 20132 | $ -9457 ( 9457 )\n",
      "fair value of forward exchange contracts after a 10% ( 10 % ) favorable movement in foreign currency exchange rates liability | $ -6781 ( 6781 ) | $ -38294 ( 38294 )\n",
      "         ### POST_TEXT:\n",
      "         fair value of forward exchange contracts after a 10% ( 10 % ) unfavorable movement in foreign currency exchange rates asset ( liability ) .\n",
      ".\n",
      ".\n",
      ".\n",
      ".\n",
      ".\n",
      ".\n",
      ".\n",
      ".\n",
      "$ 20132 $ ( 9457 ) fair value of forward exchange contracts after a 10% ( 10 % ) favorable movement in foreign currency exchange rates liability .\n",
      ".\n",
      ".\n",
      ".\n",
      ".\n",
      ".\n",
      ".\n",
      ".\n",
      ".\n",
      ".\n",
      ".\n",
      ".\n",
      ".\n",
      ".\n",
      ".\n",
      ".\n",
      ".\n",
      ".\n",
      ".\n",
      ".\n",
      ".\n",
      ".\n",
      "$ ( 6781 ) $ ( 38294 ) the calculation assumes that each exchange rate would change in the same direction relative to the u.s .\n",
      "dollar .\n",
      "in addition to the direct effects of changes in exchange rates , such changes typically affect the volume of sales or the foreign currency sales price as competitors 2019 products become more or less attractive .\n",
      "our sensitivity analysis of the effects of changes in foreign currency exchange rates does not factor in a potential change in sales levels or local currency selling prices. .\n",
      "         ### END_FINANCIAL_REPORT\n",
      "         ### QUESTION: what is the the interest expense in 2009?         \n",
      "\n",
      "### ASSISTANT:\n",
      "        ### ANSWER: 380\n",
      "        ### REASONING STEPS:\n",
      "         ###STEP 0: 100 divide1-1 100 = 1%\n",
      "###STEP 1: 3.8 divide1-2 #0 = 380\n",
      "         ### PROGRAM compiled from reasoning steps above:\n",
      "         divide(100, 100), divide(3.8, #0)\n",
      "         \n"
     ]
    }
   ],
   "source": [
    "print(training_dataset[0][\"text\"])"
   ]
  },
  {
   "cell_type": "code",
   "execution_count": 6,
   "metadata": {},
   "outputs": [
    {
     "name": "stderr",
     "output_type": "stream",
     "text": [
      "                                                                \r"
     ]
    },
    {
     "data": {
      "text/plain": [
       "Dataset({\n",
       "    features: ['text'],\n",
       "    num_rows: 1147\n",
       "})"
      ]
     },
     "execution_count": 6,
     "metadata": {},
     "output_type": "execute_result"
    }
   ],
   "source": [
    "validation_dataset = finqa.FinQADataset(\n",
    "    data_path=ROOT_DATASET_DIR / \"test.json\", scope=constants.Scope.TRAINING\n",
    ").to_huggingface()\n",
    "validation_dataset"
   ]
  },
  {
   "cell_type": "code",
   "execution_count": 7,
   "metadata": {},
   "outputs": [
    {
     "name": "stdout",
     "output_type": "stream",
     "text": [
      "### SYSTEM: You are a professional financial advisor. Your task is to read a financial report as text and numbers and do the proper math calculations to answer the given question.\n",
      "\n",
      "### Human:\n",
      "         ### START_FINANCIAL_REPORT\n",
      "         ### PRE_TEXT:\n",
      "         entergy corporation and subsidiaries management 2019s financial discussion and analysis a result of the entergy louisiana and entergy gulf states louisiana business combination , results of operations for 2015 also include two items that occurred in october 2015 : 1 ) a deferred tax asset and resulting net increase in tax basis of approximately $ 334 million and 2 ) a regulatory liability of $ 107 million ( $ 66 million net-of-tax ) as a result of customer credits to be realized by electric customers of entergy louisiana , consistent with the terms of the stipulated settlement in the business combination proceeding .\n",
      "see note 2 to the financial statements for further discussion of the business combination and customer credits .\n",
      "results of operations for 2015 also include the sale in december 2015 of the 583 mw rhode island state energy center for a realized gain of $ 154 million ( $ 100 million net-of-tax ) on the sale and the $ 77 million ( $ 47 million net-of-tax ) write-off and regulatory charges to recognize that a portion of the assets associated with the waterford 3 replacement steam generator project is no longer probable of recovery .\n",
      "see note 14 to the financial statements for further discussion of the rhode island state energy center sale .\n",
      "see note 2 to the financial statements for further discussion of the waterford 3 write-off .\n",
      "results of operations for 2014 include $ 154 million ( $ 100 million net-of-tax ) of charges related to vermont yankee primarily resulting from the effects of an updated decommissioning cost study completed in the third quarter 2014 along with reassessment of the assumptions regarding the timing of decommissioning cash flows and severance and employee retention costs .\n",
      "see note 14 to the financial statements for further discussion of the charges .\n",
      "results of operations for 2014 also include the $ 56.2 million ( $ 36.7 million net-of-tax ) write-off in 2014 of entergy mississippi 2019s regulatory asset associated with new nuclear generation development costs as a result of a joint stipulation entered into with the mississippi public utilities staff , subsequently approved by the mpsc , in which entergy mississippi agreed not to pursue recovery of the costs deferred by an mpsc order in the new nuclear generation docket .\n",
      "see note 2 to the financial statements for further discussion of the new nuclear generation development costs and the joint stipulation .\n",
      "net revenue utility following is an analysis of the change in net revenue comparing 2015 to 2014 .\n",
      "amount ( in millions ) .\n",
      "         ### TABLE:\n",
      "          | amount ( in millions )\n",
      "2014 net revenue | $ 5735\n",
      "retail electric price | 187\n",
      "volume/weather | 95\n",
      "waterford 3 replacement steam generator provision | -32 ( 32 )\n",
      "miso deferral | -35 ( 35 )\n",
      "louisiana business combination customer credits | -107 ( 107 )\n",
      "other | -14 ( 14 )\n",
      "2015 net revenue | $ 5829\n",
      "         ### POST_TEXT:\n",
      "         the retail electric price variance is primarily due to : 2022 formula rate plan increases at entergy louisiana , as approved by the lpsc , effective december 2014 and january 2015 ; 2022 an increase in energy efficiency rider revenue primarily due to increases in the energy efficiency rider at entergy arkansas , as approved by the apsc , effective july 2015 and july 2014 , and new energy efficiency riders at entergy louisiana and entergy mississippi that began in the fourth quarter 2014 ; and 2022 an annual net rate increase at entergy mississippi of $ 16 million , effective february 2015 , as a result of the mpsc order in the june 2014 rate case .\n",
      "see note 2 to the financial statements for a discussion of rate and regulatory proceedings. .\n",
      "         ### END_FINANCIAL_REPORT\n",
      "         ### QUESTION: what is the net change in net revenue during 2015 for entergy corporation?         \n",
      "\n",
      "### ASSISTANT:\n",
      "        ### ANSWER: 94\n",
      "        ### REASONING STEPS:\n",
      "         ###STEP 0: 5829 minus2-1 5735 = 94\n",
      "         ### PROGRAM compiled from reasoning steps above:\n",
      "         subtract(5829, 5735)\n",
      "         \n"
     ]
    }
   ],
   "source": [
    "print(validation_dataset[0][\"text\"])"
   ]
  },
  {
   "cell_type": "markdown",
   "metadata": {},
   "source": [
    "## Train Model"
   ]
  },
  {
   "cell_type": "code",
   "execution_count": 8,
   "metadata": {},
   "outputs": [],
   "source": [
    "import numpy as np\n",
    "from transformers import EvalPrediction\n",
    "\n",
    "def compute_metrics(eval_pred: EvalPrediction):\n",
    "    perplexity = np.exp(eval_pred.predictions.mean())\n",
    "    \n",
    "    return {\"perplexity\": perplexity}"
   ]
  },
  {
   "cell_type": "code",
   "execution_count": 9,
   "metadata": {},
   "outputs": [
    {
     "name": "stderr",
     "output_type": "stream",
     "text": [
      "Loading checkpoint shards: 100%|██████████| 2/2 [00:08<00:00,  4.32s/it]\n"
     ]
    }
   ],
   "source": [
    "model, tokenizer, peft_config = models.build_qlora_model(model_id=\"tiiuae/falcon-7b-instruct\")"
   ]
  },
  {
   "cell_type": "code",
   "execution_count": 5,
   "metadata": {},
   "outputs": [],
   "source": [
    "RESULT_DIR = Path(\"../results/finqa\")\n",
    "LOGGING_DIR = Path(\"../logs/finqa\")"
   ]
  },
  {
   "cell_type": "code",
   "execution_count": 11,
   "metadata": {},
   "outputs": [],
   "source": [
    "training_arguments = TrainingArguments(\n",
    "    output_dir=str(RESULT_DIR),\n",
    "    logging_dir=str(LOGGING_DIR),\n",
    "    per_device_train_batch_size=3,  # increase this value if you have more VRAM\n",
    "    gradient_accumulation_steps=6,\n",
    "    per_device_eval_batch_size=3,  # increase this value if you have more VRAM\n",
    "    optim=\"paged_adamw_32bit\",  # This parameter activate QLoRa's pagination\n",
    "    save_steps=40,\n",
    "    logging_steps=10,\n",
    "    learning_rate=2e-4,\n",
    "    fp16=True,\n",
    "    max_grad_norm=0.3,\n",
    "    num_train_epochs=1,\n",
    "    warmup_ratio=0.03,\n",
    "    lr_scheduler_type=\"constant\",\n",
    "    evaluation_strategy=\"epoch\",     # evaluation strategy\n",
    ")\n",
    "\n",
    "# TODO: Handle this error: \"Token indices sequence length is longer than the specified maximum sequence length for this model (2302 > 2048). Running this sequence through the model will result in indexing errors\""
   ]
  },
  {
   "cell_type": "code",
   "execution_count": 12,
   "metadata": {},
   "outputs": [
    {
     "name": "stderr",
     "output_type": "stream",
     "text": [
      "/home/pauliusztin/anaconda3/envs/hands-on-llms/lib/python3.9/site-packages/peft/utils/other.py:102: FutureWarning: prepare_model_for_int8_training is deprecated and will be removed in a future version. Use prepare_model_for_kbit_training instead.\n",
      "  warnings.warn(\n",
      "Token indices sequence length is longer than the specified maximum sequence length for this model (2302 > 2048). Running this sequence through the model will result in indexing errors\n",
      "You're using a PreTrainedTokenizerFast tokenizer. Please note that with a fast tokenizer, using the `__call__` method is faster than using a method to encode the text followed by a call to the `pad` method to get a padded encoding.\n"
     ]
    },
    {
     "data": {
      "text/html": [
       "\n",
       "    <div>\n",
       "      \n",
       "      <progress value='317' max='347' style='width:300px; height:20px; vertical-align: middle;'></progress>\n",
       "      [317/347 3:52:29 < 22:08, 0.02 it/s, Epoch 0.91/1]\n",
       "    </div>\n",
       "    <table border=\"1\" class=\"dataframe\">\n",
       "  <thead>\n",
       " <tr style=\"text-align: left;\">\n",
       "      <th>Epoch</th>\n",
       "      <th>Training Loss</th>\n",
       "      <th>Validation Loss</th>\n",
       "    </tr>\n",
       "  </thead>\n",
       "  <tbody>\n",
       "  </tbody>\n",
       "</table><p>"
      ],
      "text/plain": [
       "<IPython.core.display.HTML object>"
      ]
     },
     "metadata": {},
     "output_type": "display_data"
    }
   ],
   "source": [
    "model.config.use_cache = (\n",
    "    False  # Gradient checkpointing is used by default but not compatible with caching\n",
    ")\n",
    "\n",
    "trainer = SFTTrainer(\n",
    "    model=model,\n",
    "    train_dataset=training_dataset,\n",
    "    eval_dataset=validation_dataset,\n",
    "    peft_config=peft_config,\n",
    "    dataset_text_field=\"text\",\n",
    "    max_seq_length=1024,\n",
    "    tokenizer=tokenizer,\n",
    "    args=training_arguments,\n",
    "    packing=True,\n",
    "    compute_metrics=compute_metrics,\n",
    ")\n",
    "trainer.train()"
   ]
  },
  {
   "cell_type": "code",
   "execution_count": null,
   "metadata": {},
   "outputs": [],
   "source": [
    "# trainer.evaluate()"
   ]
  },
  {
   "cell_type": "markdown",
   "metadata": {},
   "source": [
    "## Test Model"
   ]
  },
  {
   "cell_type": "code",
   "execution_count": 6,
   "metadata": {},
   "outputs": [
    {
     "name": "stderr",
     "output_type": "stream",
     "text": [
      "                                                   \r"
     ]
    },
    {
     "data": {
      "text/plain": [
       "Dataset({\n",
       "    features: ['text'],\n",
       "    num_rows: 919\n",
       "})"
      ]
     },
     "execution_count": 6,
     "metadata": {},
     "output_type": "execute_result"
    }
   ],
   "source": [
    "test_dataset = finqa.FinQADataset(\n",
    "    data_path=ROOT_DATASET_DIR / \"private_test.json\", scope=constants.Scope.TESTING\n",
    ").to_huggingface()\n",
    "test_dataset"
   ]
  },
  {
   "cell_type": "code",
   "execution_count": 7,
   "metadata": {},
   "outputs": [
    {
     "data": {
      "text/plain": [
       "\"### SYSTEM: You are a professional financial advisor. Your task is to read a financial report as text and numbers and do the proper math calculations to answer the given question.\\n\\n### Human:\\n         ### START_FINANCIAL_REPORT\\n         ### PRE_TEXT:\\n         entergy gulf states louisiana , l.l.c .\\nmanagement 2019s financial discussion and analysis all debt and common and preferred equity/membership interest issuances by entergy gulf states louisiana require prior regulatory approval .\\npreferred equity/membership interest and debt issuances are also subject to issuance tests set forth in its bond indentures and other agreements .\\nentergy gulf states louisiana has sufficient capacity under these tests to meet its foreseeable capital needs .\\nentergy gulf states louisiana 2019s receivables from the money pool were as follows as of december 31 for each of the following years: .\\n         ### TABLE:\\n         2011 | 2010 | 2009 | 2008\\n( in thousands ) | ( in thousands ) | ( in thousands ) | ( in thousands )\\n$ 23596 | $ 63003 | $ 50131 | $ 11589\\n         ### POST_TEXT:\\n         see note 4 to the financial statements for a description of the money pool .\\nentergy gulf states louisiana has a credit facility in the amount of $ 100 million scheduled to expire in august 2012 .\\nno borrowings were outstanding under the credit facility as of december 31 , 2011 .\\nentergy gulf states louisiana obtained short-term borrowing authorization from the ferc under which it may borrow through october 2013 , up to the aggregate amount , at any one time outstanding , of $ 200 million .\\nsee note 4 to the financial statements for further discussion of entergy gulf states louisiana 2019s short-term borrowing limits .\\nentergy gulf states louisiana has also obtained an order from the ferc authorizing long-term securities issuances through july 2013 .\\nhurricane gustav and hurricane ike in september 2008 , hurricane gustav and hurricane ike caused catastrophic damage to entergy gulf states louisiana 2019s service territory .\\nthe storms resulted in widespread power outages , significant damage to distribution , transmission , and generation infrastructure , and the loss of sales during the power outages .\\nin october 2008 , entergy gulf states louisiana drew all of its $ 85 million funded storm reserve .\\non october 15 , 2008 , the lpsc approved entergy gulf states louisiana 2019s request to defer and accrue carrying cost on unrecovered storm expenditures during the period the company seeks regulatory recovery .\\nthe approval was without prejudice to the ultimate resolution of the total amount of prudently incurred storm cost or final carrying cost rate .\\nentergy gulf states louisiana and entergy louisiana filed their hurricane gustav and hurricane ike storm cost recovery case with the lpsc in may 2009 .\\nin september 2009 , entergy gulf states louisiana and entergy louisiana and the louisiana utilities restoration corporation ( lurc ) , an instrumentality of the state of louisiana , filed with the lpsc an application requesting that the lpsc grant financing orders authorizing the financing of entergy gulf states louisiana 2019s and entergy louisiana 2019s storm costs , storm reserves , and issuance costs pursuant to act 55 of the louisiana regular session of 2007 ( act 55 financings ) .\\nentergy gulf states louisiana 2019s and entergy louisiana 2019s hurricane katrina and hurricane rita storm costs were financed primarily by act 55 financings , as discussed below .\\nentergy gulf states louisiana and entergy louisiana also filed an application requesting lpsc approval for ancillary issues including the mechanism to flow charges and act 55 financing savings to customers via a storm cost offset rider .\\nin december 2009 , entergy gulf states louisiana and entergy louisiana entered into a stipulation agreement with the lpsc staff that provides for total recoverable costs of approximately $ 234 million for entergy gulf states louisiana and $ 394 million for entergy louisiana , including carrying costs .\\nunder this stipulation , entergy gulf states louisiana agrees not to recover $ 4.4 million and entergy louisiana agrees not to recover $ 7.2 million of their storm restoration spending .\\nthe stipulation also permits replenishing entergy gulf states louisiana's storm reserve in the amount of $ 90 million and entergy louisiana's storm reserve in the amount of $ 200 million when the act 55 financings are accomplished .\\nin march and april 2010 , entergy gulf states louisiana , entergy louisiana , and other parties to the proceeding filed with the lpsc an uncontested stipulated settlement that includes these terms and also includes entergy gulf states louisiana 2019s and entergy louisiana's proposals under the act 55 financings , which includes a commitment to pass on to customers a minimum of $ 15.5 .\\n         ### END_FINANCIAL_REPORT\\n         ### QUESTION: what is the percentage change in the balance of receivables from the money pool for entergy gulf states louisiana from 2010 to 2011?         \""
      ]
     },
     "execution_count": 7,
     "metadata": {},
     "output_type": "execute_result"
    }
   ],
   "source": [
    "test_dataset[\"text\"][0]"
   ]
  },
  {
   "cell_type": "code",
   "execution_count": 9,
   "metadata": {},
   "outputs": [
    {
     "name": "stderr",
     "output_type": "stream",
     "text": [
      "Loading checkpoint shards: 100%|██████████| 2/2 [00:08<00:00,  4.21s/it]\n"
     ]
    }
   ],
   "source": [
    "loaded_model, loaded_tokenizer, _ = models.build_qlora_model(\n",
    "    model_id=\"tiiuae/falcon-7b-instruct\", peft_model_id=RESULT_DIR / \"checkpoint-280\"\n",
    ")"
   ]
  },
  {
   "cell_type": "code",
   "execution_count": 11,
   "metadata": {},
   "outputs": [
    {
     "name": "stderr",
     "output_type": "stream",
     "text": [
      "Setting `pad_token_id` to `eos_token_id`:11 for open-end generation.\n"
     ]
    },
    {
     "name": "stdout",
     "output_type": "stream",
     "text": [
      "### SYSTEM: You are a professional financial advisor. Your task is to read a financial report as text and numbers and do the proper math calculations to answer the given question.\n",
      "\n",
      "### Human:\n",
      "         ### START_FINANCIAL_REPORT\n",
      "         ### PRE_TEXT:\n",
      "         entergy gulf states louisiana, l.l.c.\n",
      "management 2019s financial discussion and analysis all debt and common and preferred equity/membership interest issuances by entergy gulf states louisiana require prior regulatory approval.\n",
      "preferred equity/membership interest and debt issuances are also subject to issuance tests set forth in its bond indentures and other agreements.\n",
      "entergy gulf states louisiana has sufficient capacity under these tests to meet its foreseeable capital needs.\n",
      "entergy gulf states louisiana 2019s receivables from the money pool were as follows as of december 31 for each of the following years:.\n",
      "         ### TABLE:\n",
      "         2011 | 2010 | 2009 | 2008\n",
      "( in thousands ) | ( in thousands ) | ( in thousands ) | ( in thousands )\n",
      "$ 23596 | $ 63003 | $ 50131 | $ 11589\n",
      "         ### POST_TEXT:\n",
      "         see note 4 to the financial statements for a description of the money pool.\n",
      "entergy gulf states louisiana has a credit facility in the amount of $ 100 million scheduled to expire in august 2012.\n",
      "no borrowings were outstanding under the credit facility as of december 31, 2011.\n",
      "entergy gulf states louisiana obtained short-term borrowing authorization from the ferc under which it may borrow through october 2013, up to the aggregate amount, at any one time outstanding, of $ 200 million.\n",
      "see note 4 to the financial statements for further discussion of entergy gulf states louisiana 2019s short-term borrowing limits.\n",
      "entergy gulf states louisiana has also obtained an order from the ferc authorizing long-term securities issuances through july 2013.\n",
      "hurricane gustav and hurricane ike in september 2008, hurricane gustav and hurricane ike caused catastrophic damage to entergy gulf states louisiana 2019s service territory.\n",
      "the storms resulted in widespread power outages, significant damage to distribution, transmission, and generation infrastructure, and the loss of sales during the power outages.\n",
      "in october 2008, entergy gulf states louisiana drew all of its $ 85 million funded storm reserve.\n",
      "on october 15, 2008, the lpsc approved entergy gulf states louisiana 2019s request to defer and accrue carrying cost on unrecovered storm expenditures during the period the company seeks regulatory recovery.\n",
      "the approval was without prejudice to the ultimate resolution of the total amount of prudently incurred storm cost or final carrying cost rate.\n",
      "entergy gulf states louisiana and entergy louisiana filed their hurricane gustav and hurricane ike storm cost recovery case with the lpsc in may 2009.\n",
      "in september 2009, entergy gulf states louisiana and entergy louisiana and the louisiana utilities restoration corporation ( lurc ), an instrumentality of the state of louisiana, filed with the lpsc an application requesting that the lpsc grant financing orders authorizing the financing of entergy gulf states louisiana 2019s and entergy louisiana 2019s storm costs, storm reserves, and issuance costs pursuant to act 55 of the louisiana regular session of 2007 ( act 55 financings ).\n",
      "entergy gulf states louisiana 2019s and entergy louisiana 2019s hurricane katrina and hurricane rita storm costs were financed primarily by act 55 financings, as discussed below.\n",
      "entergy gulf states louisiana and entergy louisiana also filed an application requesting lpsc approval for ancillary issues including the mechanism to flow charges and act 55 financing savings to customers via a storm cost offset rider.\n",
      "in december 2009, entergy gulf states louisiana and entergy louisiana entered into a stipulation agreement with the lpsc staff that provides for total recoverable costs of approximately $ 234 million for entergy gulf states louisiana and $ 394 million for entergy louisiana, including carrying costs.\n",
      "under this stipulation, entergy gulf states louisiana agrees not to recover $ 4.4 million and entergy louisiana agrees not to recover $ 7.2 million of their storm restoration spending.\n",
      "the stipulation also permits replenishing entergy gulf states louisiana's storm reserve in the amount of $ 90 million and entergy louisiana's storm reserve in the amount of $ 200 million when the act 55 financings are accomplished.\n",
      "in march and april 2010, entergy gulf states louisiana, entergy louisiana, and other parties to the proceeding filed with the lpsc an uncontested stipulated settlement that includes these terms and also includes entergy gulf states louisiana 2019s and entergy louisiana's proposals under the act 55 financings, which includes a commitment to pass on to customers a minimum of $ 15.5.\n",
      "         ### END_FINANCIAL_REPORT\n",
      "         ### QUESTION: what is the percentage change in the balance of receivables from the money pool for entergy gulf states louisiana from 2010 to 2011?         \n",
      "\n",
      "### ASSISTANT:\n",
      "        ### ANSWER: -11.7%\n",
      "        ### REASONING STEPS:\n",
      "         ###STEP 0: 23596 minus1-1 63003 = - ( 23596 )\n",
      "###STEP 1: #0 divide1-2 63003 = -11.7%\n",
      "         ### PROGRAM compiled from reasoning steps above:\n",
      "         subtract(23596, 63003), divide(#0,\n"
     ]
    }
   ],
   "source": [
    "print(\n",
    "    models.prompt(\n",
    "        model=loaded_model,\n",
    "        tokenizer=loaded_tokenizer,\n",
    "        input_text=test_dataset[\"text\"][0],\n",
    "        max_new_tokens=100\n",
    "    )\n",
    ")"
   ]
  }
 ],
 "metadata": {
  "kernelspec": {
   "display_name": "hands-on-llms",
   "language": "python",
   "name": "python3"
  },
  "language_info": {
   "codemirror_mode": {
    "name": "ipython",
    "version": 3
   },
   "file_extension": ".py",
   "mimetype": "text/x-python",
   "name": "python",
   "nbconvert_exporter": "python",
   "pygments_lexer": "ipython3",
   "version": "3.9.17"
  }
 },
 "nbformat": 4,
 "nbformat_minor": 2
}
