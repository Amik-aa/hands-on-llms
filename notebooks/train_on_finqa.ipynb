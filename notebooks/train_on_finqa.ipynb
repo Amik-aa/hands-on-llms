{
 "cells": [
  {
   "cell_type": "code",
   "execution_count": 1,
   "metadata": {},
   "outputs": [],
   "source": [
    "%load_ext autoreload\n",
    "%autoreload 2"
   ]
  },
  {
   "cell_type": "code",
   "execution_count": 2,
   "metadata": {},
   "outputs": [
    {
     "name": "stderr",
     "output_type": "stream",
     "text": [
      "/home/pauliusztin/anaconda3/envs/hands-on-llms/lib/python3.9/site-packages/tqdm/auto.py:21: TqdmWarning: IProgress not found. Please update jupyter and ipywidgets. See https://ipywidgets.readthedocs.io/en/stable/user_install.html\n",
      "  from .autonotebook import tqdm as notebook_tqdm\n"
     ]
    }
   ],
   "source": [
    "import sys\n",
    "sys.path.append(\"../modules\")\n",
    "\n",
    "from pathlib import Path\n",
    "from transformers import TrainingArguments\n",
    "from trl import SFTTrainer\n",
    "\n",
    "from common import constants\n",
    "from common.data import finqa\n",
    "from training import models"
   ]
  },
  {
   "cell_type": "markdown",
   "metadata": {},
   "source": [
    "## Load Datasets"
   ]
  },
  {
   "cell_type": "code",
   "execution_count": 3,
   "metadata": {},
   "outputs": [],
   "source": [
    "ROOT_DATASET_DIR = Path(\"../dataset\")"
   ]
  },
  {
   "cell_type": "code",
   "execution_count": 4,
   "metadata": {},
   "outputs": [
    {
     "name": "stderr",
     "output_type": "stream",
     "text": [
      "                                                                                                                                                                                                                                                                                    \r"
     ]
    },
    {
     "data": {
      "text/plain": [
       "Dataset({\n",
       "    features: ['text'],\n",
       "    num_rows: 6251\n",
       "})"
      ]
     },
     "execution_count": 4,
     "metadata": {},
     "output_type": "execute_result"
    }
   ],
   "source": [
    "training_dataset = finqa.FinQADataset(\n",
    "    data_path=ROOT_DATASET_DIR / \"train.json\", scope = constants.Scope.TRAINING\n",
    "    ).to_huggingface()\n",
    "training_dataset"
   ]
  },
  {
   "cell_type": "code",
   "execution_count": 5,
   "metadata": {},
   "outputs": [
    {
     "data": {
      "text/plain": [
       "{'text': '        ###System: You are a professional financial advisor. Your task is to read a financial report and answer the given question.\\n         The financial report you will get will be in the following format:\\n         ###START_FINANCIAL_REPORT\\n         ###PRE_TEXT:\\n         <some text>\\n         ###TABLE:\\n         <table with the financial data>\\n         ###POST_TEXT:\\n         <some text>\\n         ###END_FINANCIAL_REPORT\\n         Your question from the human will be in the following format:\\n         ###Human:\\n        ###QUESTION: <question>\\n         Your answer as an assisant should be in the following format:\\n         ###Assistant:\\n        ###ANSWER: <answer>\\n         You should output all the reasoning steps in the following format:\\n         ###STEP 0: <arg1> <operation> <arg2> = <result #0> \\n         ###STEP 1: <arg1> <operation> <arg2> = <result #1>\\n         ...        ###STEP N:<arg1> <operation> <arg2> = <result #N> \\n         You should also output the final program based on the previus steps as follows:\\n         ###PROGRAM: <program>\\n         \\n        ###Human:\\n        ###START_FINANCIAL_REPORT\\n         ###PRE_TEXT:\\n         interest rate to a variable interest rate based on the three-month libor plus 2.05% ( 2.05 % ) ( 2.34% ( 2.34 % ) as of october 31 , 2009 ) .\\nif libor changes by 100 basis points , our annual interest expense would change by $ 3.8 million .\\nforeign currency exposure as more fully described in note 2i .\\nin the notes to consolidated financial statements contained in item 8 of this annual report on form 10-k , we regularly hedge our non-u.s .\\ndollar-based exposures by entering into forward foreign currency exchange contracts .\\nthe terms of these contracts are for periods matching the duration of the underlying exposure and generally range from one month to twelve months .\\ncurrently , our largest foreign currency exposure is the euro , primarily because our european operations have the highest proportion of our local currency denominated expenses .\\nrelative to foreign currency exposures existing at october 31 , 2009 and november 1 , 2008 , a 10% ( 10 % ) unfavorable movement in foreign currency exchange rates over the course of the year would not expose us to significant losses in earnings or cash flows because we hedge a high proportion of our year-end exposures against fluctuations in foreign currency exchange rates .\\nthe market risk associated with our derivative instruments results from currency exchange rate or interest rate movements that are expected to offset the market risk of the underlying transactions , assets and liabilities being hedged .\\nthe counterparties to the agreements relating to our foreign exchange instruments consist of a number of major international financial institutions with high credit ratings .\\nwe do not believe that there is significant risk of nonperformance by these counterparties because we continually monitor the credit ratings of such counterparties .\\nwhile the contract or notional amounts of derivative financial instruments provide one measure of the volume of these transactions , they do not represent the amount of our exposure to credit risk .\\nthe amounts potentially subject to credit risk ( arising from the possible inability of counterparties to meet the terms of their contracts ) are generally limited to the amounts , if any , by which the counterparties 2019 obligations under the contracts exceed our obligations to the counterparties .\\nthe following table illustrates the effect that a 10% ( 10 % ) unfavorable or favorable movement in foreign currency exchange rates , relative to the u.s .\\ndollar , would have on the fair value of our forward exchange contracts as of october 31 , 2009 and november 1 , 2008: .\\n         ###TABLE:\\n          | october 31 2009 | november 1 2008\\nfair value of forward exchange contracts asset ( liability ) | $ 6427 | $ -23158 ( 23158 )\\nfair value of forward exchange contracts after a 10% ( 10 % ) unfavorable movement in foreign currency exchange rates asset ( liability ) | $ 20132 | $ -9457 ( 9457 )\\nfair value of forward exchange contracts after a 10% ( 10 % ) favorable movement in foreign currency exchange rates liability | $ -6781 ( 6781 ) | $ -38294 ( 38294 )\\n         ###POST_TEXT:\\n         fair value of forward exchange contracts after a 10% ( 10 % ) unfavorable movement in foreign currency exchange rates asset ( liability ) .\\n.\\n.\\n.\\n.\\n.\\n.\\n.\\n.\\n$ 20132 $ ( 9457 ) fair value of forward exchange contracts after a 10% ( 10 % ) favorable movement in foreign currency exchange rates liability .\\n.\\n.\\n.\\n.\\n.\\n.\\n.\\n.\\n.\\n.\\n.\\n.\\n.\\n.\\n.\\n.\\n.\\n.\\n.\\n.\\n.\\n$ ( 6781 ) $ ( 38294 ) the calculation assumes that each exchange rate would change in the same direction relative to the u.s .\\ndollar .\\nin addition to the direct effects of changes in exchange rates , such changes typically affect the volume of sales or the foreign currency sales price as competitors 2019 products become more or less attractive .\\nour sensitivity analysis of the effects of changes in foreign currency exchange rates does not factor in a potential change in sales levels or local currency selling prices. .\\n         ###END_FINANCIAL_REPORT\\n         ###QUESTION: what is the the interest expense in 2009?         \\n        ###Assistant:\\n        ###ANSWER: 380\\n        Reasoning steps:\\n         ###STEP 0: 100 divide1-1 100 = 1%\\n###STEP 1: 3.8 divide1-2 #0 = 380\\n         Final program based on the reasoning steps:\\n         divide(100, 100), divide(3.8, #0)\\n         '}"
      ]
     },
     "execution_count": 5,
     "metadata": {},
     "output_type": "execute_result"
    }
   ],
   "source": [
    "training_dataset[0]"
   ]
  },
  {
   "cell_type": "code",
   "execution_count": 6,
   "metadata": {},
   "outputs": [
    {
     "name": "stderr",
     "output_type": "stream",
     "text": [
      "                                                                                                                                                                                                                                                                                    \r"
     ]
    },
    {
     "data": {
      "text/plain": [
       "Dataset({\n",
       "    features: ['text'],\n",
       "    num_rows: 1147\n",
       "})"
      ]
     },
     "execution_count": 6,
     "metadata": {},
     "output_type": "execute_result"
    }
   ],
   "source": [
    "validation_dataset = finqa.FinQADataset(\n",
    "    data_path=ROOT_DATASET_DIR / \"test.json\", scope=constants.Scope.VALIDATION\n",
    ").to_huggingface()\n",
    "validation_dataset"
   ]
  },
  {
   "cell_type": "code",
   "execution_count": 7,
   "metadata": {},
   "outputs": [
    {
     "data": {
      "text/plain": [
       "{'text': '        ###System: You are a professional financial advisor. Your task is to read a financial report and answer the given question.\\n         The financial report you will get will be in the following format:\\n         ###START_FINANCIAL_REPORT\\n         ###PRE_TEXT:\\n         <some text>\\n         ###TABLE:\\n         <table with the financial data>\\n         ###POST_TEXT:\\n         <some text>\\n         ###END_FINANCIAL_REPORT\\n         Your question from the human will be in the following format:\\n         ###Human:\\n        ###QUESTION: <question>\\n         Your answer as an assisant should be in the following format:\\n         ###Assistant:\\n        ###ANSWER: <answer>\\n         You should output all the reasoning steps in the following format:\\n         ###STEP 0: <arg1> <operation> <arg2> = <result #0> \\n         ###STEP 1: <arg1> <operation> <arg2> = <result #1>\\n         ...        ###STEP N:<arg1> <operation> <arg2> = <result #N> \\n         You should also output the final program based on the previus steps as follows:\\n         ###PROGRAM: <program>\\n         \\n        ###Human:\\n        ###START_FINANCIAL_REPORT\\n         ###PRE_TEXT:\\n         entergy corporation and subsidiaries management 2019s financial discussion and analysis a result of the entergy louisiana and entergy gulf states louisiana business combination , results of operations for 2015 also include two items that occurred in october 2015 : 1 ) a deferred tax asset and resulting net increase in tax basis of approximately $ 334 million and 2 ) a regulatory liability of $ 107 million ( $ 66 million net-of-tax ) as a result of customer credits to be realized by electric customers of entergy louisiana , consistent with the terms of the stipulated settlement in the business combination proceeding .\\nsee note 2 to the financial statements for further discussion of the business combination and customer credits .\\nresults of operations for 2015 also include the sale in december 2015 of the 583 mw rhode island state energy center for a realized gain of $ 154 million ( $ 100 million net-of-tax ) on the sale and the $ 77 million ( $ 47 million net-of-tax ) write-off and regulatory charges to recognize that a portion of the assets associated with the waterford 3 replacement steam generator project is no longer probable of recovery .\\nsee note 14 to the financial statements for further discussion of the rhode island state energy center sale .\\nsee note 2 to the financial statements for further discussion of the waterford 3 write-off .\\nresults of operations for 2014 include $ 154 million ( $ 100 million net-of-tax ) of charges related to vermont yankee primarily resulting from the effects of an updated decommissioning cost study completed in the third quarter 2014 along with reassessment of the assumptions regarding the timing of decommissioning cash flows and severance and employee retention costs .\\nsee note 14 to the financial statements for further discussion of the charges .\\nresults of operations for 2014 also include the $ 56.2 million ( $ 36.7 million net-of-tax ) write-off in 2014 of entergy mississippi 2019s regulatory asset associated with new nuclear generation development costs as a result of a joint stipulation entered into with the mississippi public utilities staff , subsequently approved by the mpsc , in which entergy mississippi agreed not to pursue recovery of the costs deferred by an mpsc order in the new nuclear generation docket .\\nsee note 2 to the financial statements for further discussion of the new nuclear generation development costs and the joint stipulation .\\nnet revenue utility following is an analysis of the change in net revenue comparing 2015 to 2014 .\\namount ( in millions ) .\\n         ###TABLE:\\n          | amount ( in millions )\\n2014 net revenue | $ 5735\\nretail electric price | 187\\nvolume/weather | 95\\nwaterford 3 replacement steam generator provision | -32 ( 32 )\\nmiso deferral | -35 ( 35 )\\nlouisiana business combination customer credits | -107 ( 107 )\\nother | -14 ( 14 )\\n2015 net revenue | $ 5829\\n         ###POST_TEXT:\\n         the retail electric price variance is primarily due to : 2022 formula rate plan increases at entergy louisiana , as approved by the lpsc , effective december 2014 and january 2015 ; 2022 an increase in energy efficiency rider revenue primarily due to increases in the energy efficiency rider at entergy arkansas , as approved by the apsc , effective july 2015 and july 2014 , and new energy efficiency riders at entergy louisiana and entergy mississippi that began in the fourth quarter 2014 ; and 2022 an annual net rate increase at entergy mississippi of $ 16 million , effective february 2015 , as a result of the mpsc order in the june 2014 rate case .\\nsee note 2 to the financial statements for a discussion of rate and regulatory proceedings. .\\n         ###END_FINANCIAL_REPORT\\n         ###QUESTION: what is the net change in net revenue during 2015 for entergy corporation?         '}"
      ]
     },
     "execution_count": 7,
     "metadata": {},
     "output_type": "execute_result"
    }
   ],
   "source": [
    "validation_dataset[0]"
   ]
  },
  {
   "cell_type": "markdown",
   "metadata": {},
   "source": [
    "## Train Model"
   ]
  },
  {
   "cell_type": "code",
   "execution_count": 8,
   "metadata": {},
   "outputs": [],
   "source": [
    "RESULT_DIR = Path(\"../results/finqa\")"
   ]
  },
  {
   "cell_type": "code",
   "execution_count": 9,
   "metadata": {},
   "outputs": [
    {
     "name": "stderr",
     "output_type": "stream",
     "text": [
      "Loading checkpoint shards: 100%|██████████████████████████████████████████████████████████████████████████████████████████████████████████████████████████████████████████████████████████████████████████████████████████████████████████████████████| 2/2 [00:08<00:00,  4.22s/it]\n"
     ]
    }
   ],
   "source": [
    "model, tokenizer, peft_config = models.build_qlora_model()"
   ]
  },
  {
   "cell_type": "code",
   "execution_count": 10,
   "metadata": {},
   "outputs": [],
   "source": [
    "training_arguments = TrainingArguments(\n",
    "    output_dir=str(RESULT_DIR),\n",
    "    per_device_train_batch_size=4,  # increase this value if you have more VRAM\n",
    "    gradient_accumulation_steps=16,\n",
    "    optim=\"paged_adamw_32bit\",  # This parameter activate QLoRa's pagination\n",
    "    save_steps=10,\n",
    "    logging_steps=10,\n",
    "    learning_rate=2e-4,\n",
    "    fp16=True,\n",
    "    max_grad_norm=0.3,\n",
    "    num_train_epochs=1,\n",
    "    warmup_ratio=0.03,\n",
    "    lr_scheduler_type=\"constant\",\n",
    ")"
   ]
  },
  {
   "cell_type": "code",
   "execution_count": null,
   "metadata": {},
   "outputs": [],
   "source": [
    "model.config.use_cache = (\n",
    "    False  # Gradient checkpointing is used by default but not compatible with caching\n",
    ")\n",
    "\n",
    "trainer = SFTTrainer(\n",
    "    model=model,\n",
    "    train_dataset=training_dataset,\n",
    "    peft_config=peft_config,\n",
    "    dataset_text_field=\"text\",\n",
    "    max_seq_length=1024,\n",
    "    tokenizer=tokenizer,\n",
    "    args=training_arguments,\n",
    "    packing=True,\n",
    ")\n",
    "trainer.train()"
   ]
  },
  {
   "cell_type": "markdown",
   "metadata": {},
   "source": [
    "## Test Model"
   ]
  },
  {
   "cell_type": "code",
   "execution_count": null,
   "metadata": {},
   "outputs": [],
   "source": [
    "loaded_model, loaded_tokenizer, _ = models.build_qlora_model(\n",
    "    peft_model_id=\"results/checkpoint-10\"\n",
    ")"
   ]
  },
  {
   "cell_type": "code",
   "execution_count": null,
   "metadata": {},
   "outputs": [],
   "source": [
    "print(\n",
    "    models.prompt(\n",
    "        model=loaded_model,\n",
    "        tokenizer=loaded_tokenizer,\n",
    "        input_text=validation_dataset[\"text\"][0],\n",
    "    )\n",
    ")"
   ]
  },
  {
   "cell_type": "markdown",
   "metadata": {},
   "source": []
  }
 ],
 "metadata": {
  "kernelspec": {
   "display_name": "hands-on-llms",
   "language": "python",
   "name": "hands-on-llms"
  },
  "language_info": {
   "codemirror_mode": {
    "name": "ipython",
    "version": 3
   },
   "file_extension": ".py",
   "mimetype": "text/x-python",
   "name": "python",
   "nbconvert_exporter": "python",
   "pygments_lexer": "ipython3",
   "version": "3.9.17"
  }
 },
 "nbformat": 4,
 "nbformat_minor": 2
}
