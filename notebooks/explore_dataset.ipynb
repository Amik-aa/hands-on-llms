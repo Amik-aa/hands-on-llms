{
 "cells": [
  {
   "cell_type": "code",
   "execution_count": 1,
   "metadata": {},
   "outputs": [],
   "source": [
    "import json\n",
    "\n",
    "from pathlib import Path"
   ]
  },
  {
   "cell_type": "code",
   "execution_count": 2,
   "metadata": {},
   "outputs": [],
   "source": [
    "DATASET_ROOT_PATH = Path('../dataset/')"
   ]
  },
  {
   "cell_type": "code",
   "execution_count": 3,
   "metadata": {},
   "outputs": [],
   "source": [
    "def load_split(path: Path) -> dict:\n",
    "    with path.open(\"r\") as f:\n",
    "        dataset = json.load(f)\n",
    "\n",
    "    return dataset"
   ]
  },
  {
   "cell_type": "code",
   "execution_count": 4,
   "metadata": {},
   "outputs": [],
   "source": [
    "train_json = load_split(path=DATASET_ROOT_PATH / 'train.json')"
   ]
  },
  {
   "cell_type": "code",
   "execution_count": 5,
   "metadata": {},
   "outputs": [
    {
     "name": "stdout",
     "output_type": "stream",
     "text": [
      "pre_text: <class 'list'>\n",
      "pre_text: ['interest rate to a variable interest rate based on the three-month libor plus 2.05% ( 2.05 % ) ( 2.34% ( 2.34 % ) as of october 31 , 2009 ) .', 'if libor changes by 100 basis points , our annual interest expense would change by $ 3.8 million .', 'foreign currency exposure as more fully described in note 2i .', 'in the notes to consolidated financial statements contained in item 8 of this annual report on form 10-k , we regularly hedge our non-u.s .', 'dollar-based exposures by entering into forward foreign currency exchange contracts .', 'the terms of these contracts are for periods matching the duration of the underlying exposure and generally range from one month to twelve months .', 'currently , our largest foreign currency exposure is the euro , primarily because our european operations have the highest proportion of our local currency denominated expenses .', 'relative to foreign currency exposures existing at october 31 , 2009 and november 1 , 2008 , a 10% ( 10 % ) unfavorable movement in foreign currency exchange rates over the course of the year would not expose us to significant losses in earnings or cash flows because we hedge a high proportion of our year-end exposures against fluctuations in foreign currency exchange rates .', 'the market risk associated with our derivative instruments results from currency exchange rate or interest rate movements that are expected to offset the market risk of the underlying transactions , assets and liabilities being hedged .', 'the counterparties to the agreements relating to our foreign exchange instruments consist of a number of major international financial institutions with high credit ratings .', 'we do not believe that there is significant risk of nonperformance by these counterparties because we continually monitor the credit ratings of such counterparties .', 'while the contract or notional amounts of derivative financial instruments provide one measure of the volume of these transactions , they do not represent the amount of our exposure to credit risk .', 'the amounts potentially subject to credit risk ( arising from the possible inability of counterparties to meet the terms of their contracts ) are generally limited to the amounts , if any , by which the counterparties 2019 obligations under the contracts exceed our obligations to the counterparties .', 'the following table illustrates the effect that a 10% ( 10 % ) unfavorable or favorable movement in foreign currency exchange rates , relative to the u.s .', 'dollar , would have on the fair value of our forward exchange contracts as of october 31 , 2009 and november 1 , 2008: .']\n",
      "\n",
      "post_text: <class 'list'>\n",
      "post_text: ['fair value of forward exchange contracts after a 10% ( 10 % ) unfavorable movement in foreign currency exchange rates asset ( liability ) .', '.', '.', '.', '.', '.', '.', '.', '.', '$ 20132 $ ( 9457 ) fair value of forward exchange contracts after a 10% ( 10 % ) favorable movement in foreign currency exchange rates liability .', '.', '.', '.', '.', '.', '.', '.', '.', '.', '.', '.', '.', '.', '.', '.', '.', '.', '.', '.', '.', '.', '$ ( 6781 ) $ ( 38294 ) the calculation assumes that each exchange rate would change in the same direction relative to the u.s .', 'dollar .', 'in addition to the direct effects of changes in exchange rates , such changes typically affect the volume of sales or the foreign currency sales price as competitors 2019 products become more or less attractive .', 'our sensitivity analysis of the effects of changes in foreign currency exchange rates does not factor in a potential change in sales levels or local currency selling prices. .']\n",
      "\n",
      "filename: <class 'str'>\n",
      "filename: ADI/2009/page_49.pdf\n",
      "\n",
      "table_ori: <class 'list'>\n",
      "table_ori: [['', 'October 31, 2009', 'November 1, 2008'], ['Fair value of forward exchange contracts asset (liability)', '$6,427', '$(23,158)'], ['Fair value of forward exchange contracts after a 10% unfavorable movement in foreign currency exchange rates asset (liability)', '$20,132', '$(9,457)'], ['Fair value of forward exchange contracts after a 10% favorable movement in foreign currency exchange rates liability', '$(6,781)', '$(38,294)']]\n",
      "\n",
      "table: <class 'list'>\n",
      "table: [['', 'october 31 2009', 'november 1 2008'], ['fair value of forward exchange contracts asset ( liability )', '$ 6427', '$ -23158 ( 23158 )'], ['fair value of forward exchange contracts after a 10% ( 10 % ) unfavorable movement in foreign currency exchange rates asset ( liability )', '$ 20132', '$ -9457 ( 9457 )'], ['fair value of forward exchange contracts after a 10% ( 10 % ) favorable movement in foreign currency exchange rates liability', '$ -6781 ( 6781 )', '$ -38294 ( 38294 )']]\n",
      "\n",
      "qa: <class 'dict'>\n",
      "qa: {'question': 'what is the the interest expense in 2009?', 'answer': '380', 'explanation': '', 'ann_table_rows': [], 'ann_text_rows': [1], 'steps': [{'op': 'divide1-1', 'arg1': '100', 'arg2': '100', 'res': '1%'}, {'op': 'divide1-2', 'arg1': '3.8', 'arg2': '#0', 'res': '380'}], 'program': 'divide(100, 100), divide(3.8, #0)', 'gold_inds': {'text_1': 'if libor changes by 100 basis points , our annual interest expense would change by $ 3.8 million .'}, 'exe_ans': 3.8, 'tfidftopn': {'text_14': 'dollar , would have on the fair value of our forward exchange contracts as of october 31 , 2009 and november 1 , 2008: .', 'text_0': 'interest rate to a variable interest rate based on the three-month libor plus 2.05% ( 2.05 % ) ( 2.34% ( 2.34 % ) as of october 31 , 2009 ) .'}, 'program_re': 'divide(3.8, divide(100, 100))', 'model_input': [['text_0', 'interest rate to a variable interest rate based on the three-month libor plus 2.05% ( 2.05 % ) ( 2.34% ( 2.34 % ) as of october 31 , 2009 ) .'], ['text_1', 'if libor changes by 100 basis points , our annual interest expense would change by $ 3.8 million .'], ['text_14', 'dollar , would have on the fair value of our forward exchange contracts as of october 31 , 2009 and november 1 , 2008: .']]}\n",
      "\n",
      "id: <class 'str'>\n",
      "id: ADI/2009/page_49.pdf-1\n",
      "\n",
      "table_retrieved: <class 'list'>\n",
      "table_retrieved: [{'score': -0.6207679510116577, 'ind': 'table_1'}, {'score': -0.8948984742164612, 'ind': 'table_2'}]\n",
      "\n",
      "text_retrieved: <class 'list'>\n",
      "text_retrieved: [{'score': 1.251369595527649, 'ind': 'text_1'}, {'score': 0.6589734554290771, 'ind': 'text_0'}, {'score': -0.1914736032485962, 'ind': 'text_14'}]\n",
      "\n",
      "table_retrieved_all: <class 'list'>\n",
      "table_retrieved_all: [{'score': -0.6207679510116577, 'ind': 'table_1'}, {'score': -0.8948984742164612, 'ind': 'table_2'}, {'score': -1.2129878997802734, 'ind': 'table_3'}, {'score': -2.9782934188842773, 'ind': 'table_0'}]\n",
      "\n",
      "text_retrieved_all: <class 'list'>\n",
      "text_retrieved_all: [{'score': 1.251369595527649, 'ind': 'text_1'}, {'score': 0.6589734554290771, 'ind': 'text_0'}, {'score': -0.1914736032485962, 'ind': 'text_14'}, {'score': -1.0945320129394531, 'ind': 'text_47'}, {'score': -1.4916260242462158, 'ind': 'text_24'}, {'score': -1.5615578889846802, 'ind': 'text_12'}, {'score': -1.572263479232788, 'ind': 'text_15'}, {'score': -1.6337369680404663, 'ind': 'text_5'}, {'score': -1.678298830986023, 'ind': 'text_3'}, {'score': -1.6905218362808228, 'ind': 'text_6'}, {'score': -1.9114893674850464, 'ind': 'text_46'}, {'score': -1.914547324180603, 'ind': 'text_7'}, {'score': -1.955027461051941, 'ind': 'text_8'}, {'score': -2.0304598808288574, 'ind': 'text_49'}, {'score': -2.0383174419403076, 'ind': 'text_13'}, {'score': -2.112241268157959, 'ind': 'text_10'}, {'score': -2.1439552307128906, 'ind': 'text_11'}, {'score': -2.2258567810058594, 'ind': 'text_4'}, {'score': -2.409395694732666, 'ind': 'text_48'}, {'score': -2.6092159748077393, 'ind': 'text_9'}, {'score': -2.6313436031341553, 'ind': 'text_2'}, {'score': -2.932347536087036, 'ind': 'text_16'}, {'score': -2.932347536087036, 'ind': 'text_17'}, {'score': -2.932347536087036, 'ind': 'text_18'}, {'score': -2.932347536087036, 'ind': 'text_19'}, {'score': -2.932347536087036, 'ind': 'text_20'}, {'score': -2.932347536087036, 'ind': 'text_21'}, {'score': -2.932347536087036, 'ind': 'text_22'}, {'score': -2.932347536087036, 'ind': 'text_23'}, {'score': -2.932347536087036, 'ind': 'text_25'}, {'score': -2.932347536087036, 'ind': 'text_26'}, {'score': -2.932347536087036, 'ind': 'text_27'}, {'score': -2.932347536087036, 'ind': 'text_28'}, {'score': -2.932347536087036, 'ind': 'text_29'}, {'score': -2.932347536087036, 'ind': 'text_30'}, {'score': -2.932347536087036, 'ind': 'text_31'}, {'score': -2.932347536087036, 'ind': 'text_32'}, {'score': -2.932347536087036, 'ind': 'text_33'}, {'score': -2.932347536087036, 'ind': 'text_34'}, {'score': -2.932347536087036, 'ind': 'text_35'}, {'score': -2.932347536087036, 'ind': 'text_36'}, {'score': -2.932347536087036, 'ind': 'text_37'}, {'score': -2.932347536087036, 'ind': 'text_38'}, {'score': -2.932347536087036, 'ind': 'text_39'}, {'score': -2.932347536087036, 'ind': 'text_40'}, {'score': -2.932347536087036, 'ind': 'text_41'}, {'score': -2.932347536087036, 'ind': 'text_42'}, {'score': -2.932347536087036, 'ind': 'text_43'}, {'score': -2.932347536087036, 'ind': 'text_44'}, {'score': -2.932347536087036, 'ind': 'text_45'}]\n",
      "\n"
     ]
    }
   ],
   "source": [
    "data_sample = train_json[0]\n",
    "for key, value in data_sample.items():\n",
    "    print(f\"{key}: {type(value)}\")\n",
    "    print(f\"{key}: {value}\")\n",
    "    print()"
   ]
  },
  {
   "cell_type": "code",
   "execution_count": 6,
   "metadata": {},
   "outputs": [
    {
     "name": "stdout",
     "output_type": "stream",
     "text": [
      "question: <class 'str'>\n",
      "question: what is the the interest expense in 2009?\n",
      "\n",
      "answer: <class 'str'>\n",
      "answer: 380\n",
      "\n",
      "explanation: <class 'str'>\n",
      "explanation: \n",
      "\n",
      "ann_table_rows: <class 'list'>\n",
      "ann_table_rows: []\n",
      "\n",
      "ann_text_rows: <class 'list'>\n",
      "ann_text_rows: [1]\n",
      "\n",
      "steps: <class 'list'>\n",
      "steps: [{'op': 'divide1-1', 'arg1': '100', 'arg2': '100', 'res': '1%'}, {'op': 'divide1-2', 'arg1': '3.8', 'arg2': '#0', 'res': '380'}]\n",
      "\n",
      "program: <class 'str'>\n",
      "program: divide(100, 100), divide(3.8, #0)\n",
      "\n",
      "gold_inds: <class 'dict'>\n",
      "gold_inds: {'text_1': 'if libor changes by 100 basis points , our annual interest expense would change by $ 3.8 million .'}\n",
      "\n",
      "exe_ans: <class 'float'>\n",
      "exe_ans: 3.8\n",
      "\n",
      "tfidftopn: <class 'dict'>\n",
      "tfidftopn: {'text_14': 'dollar , would have on the fair value of our forward exchange contracts as of october 31 , 2009 and november 1 , 2008: .', 'text_0': 'interest rate to a variable interest rate based on the three-month libor plus 2.05% ( 2.05 % ) ( 2.34% ( 2.34 % ) as of october 31 , 2009 ) .'}\n",
      "\n",
      "program_re: <class 'str'>\n",
      "program_re: divide(3.8, divide(100, 100))\n",
      "\n",
      "model_input: <class 'list'>\n",
      "model_input: [['text_0', 'interest rate to a variable interest rate based on the three-month libor plus 2.05% ( 2.05 % ) ( 2.34% ( 2.34 % ) as of october 31 , 2009 ) .'], ['text_1', 'if libor changes by 100 basis points , our annual interest expense would change by $ 3.8 million .'], ['text_14', 'dollar , would have on the fair value of our forward exchange contracts as of october 31 , 2009 and november 1 , 2008: .']]\n",
      "\n"
     ]
    }
   ],
   "source": [
    "for key, value in data_sample['qa'].items():\n",
    "    print(f\"{key}: {type(value)}\")\n",
    "    print(f\"{key}: {value}\")\n",
    "    print()"
   ]
  },
  {
   "cell_type": "code",
   "execution_count": 7,
   "metadata": {},
   "outputs": [
    {
     "name": "stderr",
     "output_type": "stream",
     "text": [
      "100%|██████████| 6251/6251 [00:00<00:00, 803511.93it/s]\n"
     ]
    }
   ],
   "source": [
    "from tqdm import tqdm\n",
    "\n",
    "flattened_train_json = []\n",
    "for data_sample in tqdm(train_json):\n",
    "    flattened_train_json.append({\n",
    "        \"pre_text\": data_sample[\"pre_text\"],\n",
    "        \"table\": data_sample[\"table\"],\n",
    "        \"post_text\": data_sample[\"post_text\"],\n",
    "        \"question\": data_sample[\"qa\"][\"question\"],\n",
    "        \"answer\": data_sample[\"qa\"][\"answer\"],\n",
    "        \"program\": data_sample[\"qa\"][\"program\"],\n",
    "    })"
   ]
  },
  {
   "cell_type": "code",
   "execution_count": 8,
   "metadata": {},
   "outputs": [
    {
     "name": "stderr",
     "output_type": "stream",
     "text": [
      "/home/pauliusztin/anaconda3/envs/hands-on-llms/lib/python3.9/site-packages/tqdm/auto.py:21: TqdmWarning: IProgress not found. Please update jupyter and ipywidgets. See https://ipywidgets.readthedocs.io/en/stable/user_install.html\n",
      "  from .autonotebook import tqdm as notebook_tqdm\n"
     ]
    },
    {
     "data": {
      "text/plain": [
       "Dataset({\n",
       "    features: ['pre_text', 'table', 'post_text', 'question', 'answer', 'program'],\n",
       "    num_rows: 6251\n",
       "})"
      ]
     },
     "execution_count": 8,
     "metadata": {},
     "output_type": "execute_result"
    }
   ],
   "source": [
    "from datasets import Dataset\n",
    "\n",
    "train_dataset = Dataset.from_list(flattened_train_json)\n",
    "train_dataset"
   ]
  },
  {
   "cell_type": "code",
   "execution_count": 9,
   "metadata": {},
   "outputs": [
    {
     "data": {
      "text/plain": [
       "{'pre_text': ['interest rate to a variable interest rate based on the three-month libor plus 2.05% ( 2.05 % ) ( 2.34% ( 2.34 % ) as of october 31 , 2009 ) .',\n",
       "  'if libor changes by 100 basis points , our annual interest expense would change by $ 3.8 million .',\n",
       "  'foreign currency exposure as more fully described in note 2i .',\n",
       "  'in the notes to consolidated financial statements contained in item 8 of this annual report on form 10-k , we regularly hedge our non-u.s .',\n",
       "  'dollar-based exposures by entering into forward foreign currency exchange contracts .',\n",
       "  'the terms of these contracts are for periods matching the duration of the underlying exposure and generally range from one month to twelve months .',\n",
       "  'currently , our largest foreign currency exposure is the euro , primarily because our european operations have the highest proportion of our local currency denominated expenses .',\n",
       "  'relative to foreign currency exposures existing at october 31 , 2009 and november 1 , 2008 , a 10% ( 10 % ) unfavorable movement in foreign currency exchange rates over the course of the year would not expose us to significant losses in earnings or cash flows because we hedge a high proportion of our year-end exposures against fluctuations in foreign currency exchange rates .',\n",
       "  'the market risk associated with our derivative instruments results from currency exchange rate or interest rate movements that are expected to offset the market risk of the underlying transactions , assets and liabilities being hedged .',\n",
       "  'the counterparties to the agreements relating to our foreign exchange instruments consist of a number of major international financial institutions with high credit ratings .',\n",
       "  'we do not believe that there is significant risk of nonperformance by these counterparties because we continually monitor the credit ratings of such counterparties .',\n",
       "  'while the contract or notional amounts of derivative financial instruments provide one measure of the volume of these transactions , they do not represent the amount of our exposure to credit risk .',\n",
       "  'the amounts potentially subject to credit risk ( arising from the possible inability of counterparties to meet the terms of their contracts ) are generally limited to the amounts , if any , by which the counterparties 2019 obligations under the contracts exceed our obligations to the counterparties .',\n",
       "  'the following table illustrates the effect that a 10% ( 10 % ) unfavorable or favorable movement in foreign currency exchange rates , relative to the u.s .',\n",
       "  'dollar , would have on the fair value of our forward exchange contracts as of october 31 , 2009 and november 1 , 2008: .'],\n",
       " 'table': [['', 'october 31 2009', 'november 1 2008'],\n",
       "  ['fair value of forward exchange contracts asset ( liability )',\n",
       "   '$ 6427',\n",
       "   '$ -23158 ( 23158 )'],\n",
       "  ['fair value of forward exchange contracts after a 10% ( 10 % ) unfavorable movement in foreign currency exchange rates asset ( liability )',\n",
       "   '$ 20132',\n",
       "   '$ -9457 ( 9457 )'],\n",
       "  ['fair value of forward exchange contracts after a 10% ( 10 % ) favorable movement in foreign currency exchange rates liability',\n",
       "   '$ -6781 ( 6781 )',\n",
       "   '$ -38294 ( 38294 )']],\n",
       " 'post_text': ['fair value of forward exchange contracts after a 10% ( 10 % ) unfavorable movement in foreign currency exchange rates asset ( liability ) .',\n",
       "  '.',\n",
       "  '.',\n",
       "  '.',\n",
       "  '.',\n",
       "  '.',\n",
       "  '.',\n",
       "  '.',\n",
       "  '.',\n",
       "  '$ 20132 $ ( 9457 ) fair value of forward exchange contracts after a 10% ( 10 % ) favorable movement in foreign currency exchange rates liability .',\n",
       "  '.',\n",
       "  '.',\n",
       "  '.',\n",
       "  '.',\n",
       "  '.',\n",
       "  '.',\n",
       "  '.',\n",
       "  '.',\n",
       "  '.',\n",
       "  '.',\n",
       "  '.',\n",
       "  '.',\n",
       "  '.',\n",
       "  '.',\n",
       "  '.',\n",
       "  '.',\n",
       "  '.',\n",
       "  '.',\n",
       "  '.',\n",
       "  '.',\n",
       "  '.',\n",
       "  '$ ( 6781 ) $ ( 38294 ) the calculation assumes that each exchange rate would change in the same direction relative to the u.s .',\n",
       "  'dollar .',\n",
       "  'in addition to the direct effects of changes in exchange rates , such changes typically affect the volume of sales or the foreign currency sales price as competitors 2019 products become more or less attractive .',\n",
       "  'our sensitivity analysis of the effects of changes in foreign currency exchange rates does not factor in a potential change in sales levels or local currency selling prices. .'],\n",
       " 'question': 'what is the the interest expense in 2009?',\n",
       " 'answer': '380',\n",
       " 'program': 'divide(100, 100), divide(3.8, #0)'}"
      ]
     },
     "execution_count": 9,
     "metadata": {},
     "output_type": "execute_result"
    }
   ],
   "source": [
    "train_dataset[0]"
   ]
  },
  {
   "cell_type": "code",
   "execution_count": 10,
   "metadata": {},
   "outputs": [],
   "source": [
    "def create_prompt(data_sample: dict) -> str:\n",
    "    pre_text = data_sample['pre_text']\n",
    "    pre_text = \"\\n\".join(pre_text)\n",
    "\n",
    "    table = data_sample['table']\n",
    "    table_rows = []\n",
    "    for table_row in table:\n",
    "        table_row = \" | \".join(table_row)\n",
    "        table_rows.append(table_row)\n",
    "    table = \"\\n\".join(table_rows)\n",
    "\n",
    "    post_text = data_sample['post_text']\n",
    "    post_text = \"\\n\".join(post_text)\n",
    "\n",
    "    program = data_sample['program']\n",
    "\n",
    "    prompt = f\"\\\n",
    "    You are a professional financial advisor. Your task is to read the following financial report delimited by ###START_FINANCIAL_REPORT and END_FINANCIAL_REPORT#### and answer the question followed by ###QUESTION.\\n \\\n",
    "    ###START_FINANCIAL_REPORT\\n \\\n",
    "    {pre_text}\\n \\\n",
    "    TABLE:\\n \\\n",
    "    {table}\\n \\\n",
    "    {post_text}\\n \\\n",
    "    ###END_FINANCIAL_REPORT\\n \\\n",
    "    ###QUESTION: {data_sample['question']}\\n \\\n",
    "    These are the steps that got me to the answer:\\n \\\n",
    "    ####STEPS: {program}\\n \\\n",
    "    This is the final answer:\\n \\\n",
    "    ###ANSWER: {data_sample['answer']} \\\n",
    "    \"\n",
    "\n",
    "    return {\n",
    "        \"text\": prompt,\n",
    "    }\n",
    "\n",
    "\n",
    "def create_test_prompt(data_sample: dict) -> str:\n",
    "    pre_text = data_sample['pre_text']\n",
    "    pre_text = \"\\n\".join(pre_text)\n",
    "\n",
    "    table = data_sample['table']\n",
    "    table_rows = []\n",
    "    for table_row in table:\n",
    "        table_row = \" | \".join(table_row)\n",
    "        table_rows.append(table_row)\n",
    "    table = \"\\n\".join(table_rows)\n",
    "\n",
    "    post_text = data_sample['post_text']\n",
    "    post_text = \"\\n\".join(post_text)\n",
    "\n",
    "    prompt = f\"\\\n",
    "    You are a professional financial advisor. Your task is to read the following financial report delimited by ###START_FINANCIAL_REPORT and END_FINANCIAL_REPORT#### and answer the question followed by ###QUESTION.\\n \\\n",
    "    ###START_FINANCIAL_REPORT\\n \\\n",
    "    {pre_text}\\n \\\n",
    "    TABLE:\\n \\\n",
    "    {table}\\n \\\n",
    "    {post_text}\\n \\\n",
    "    ###END_FINANCIAL_REPORT\\n \\\n",
    "    ###QUESTION: {data_sample['question']}\\n \\\n",
    "    \"\n",
    "\n",
    "    return {\n",
    "        \"text\": prompt,\n",
    "    }"
   ]
  },
  {
   "cell_type": "code",
   "execution_count": 11,
   "metadata": {},
   "outputs": [
    {
     "name": "stderr",
     "output_type": "stream",
     "text": [
      "                                                                  \r"
     ]
    },
    {
     "data": {
      "text/plain": [
       "Dataset({\n",
       "    features: ['text'],\n",
       "    num_rows: 6251\n",
       "})"
      ]
     },
     "execution_count": 11,
     "metadata": {},
     "output_type": "execute_result"
    }
   ],
   "source": [
    "train_dataset = train_dataset.map(lambda data_sample: create_prompt(data_sample), remove_columns=train_dataset.column_names)\n",
    "train_dataset"
   ]
  },
  {
   "cell_type": "code",
   "execution_count": 12,
   "metadata": {},
   "outputs": [
    {
     "name": "stderr",
     "output_type": "stream",
     "text": [
      "                                                                  \r"
     ]
    },
    {
     "data": {
      "image/png": "[encoded data removed]",
      "text/plain": [
       "<Figure size 640x480 with 1 Axes>"
      ]
     },
     "metadata": {},
     "output_type": "display_data"
    }
   ],
   "source": [
    "import matplotlib.pyplot as plt\n",
    "import seaborn as sns\n",
    "\n",
    "dataset = train_dataset.map(lambda example: {\"text_length\": len(example[\"text\"])})\n",
    "\n",
    "# Convert the dataset to a pandas DataFrame\n",
    "df = dataset.to_pandas()\n",
    "\n",
    "# Plot the distribution of text lengths\n",
    "sns.histplot(df[\"text_length\"])\n",
    "plt.xlabel('Length of Text')\n",
    "plt.ylabel('Frequency')\n",
    "plt.title('Distribution of Text Lengths')\n",
    "plt.show()"
   ]
  },
  {
   "cell_type": "code",
   "execution_count": 13,
   "metadata": {},
   "outputs": [],
   "source": [
    "import sys\n",
    "sys.path.append(\"../modules\")\n",
    "\n",
    "from datasets import load_dataset\n",
    "from transformers import TrainingArguments\n",
    "from trl import SFTTrainer\n",
    "\n",
    "from training import models"
   ]
  },
  {
   "cell_type": "code",
   "execution_count": 14,
   "metadata": {},
   "outputs": [
    {
     "name": "stderr",
     "output_type": "stream",
     "text": [
      "Loading checkpoint shards: 100%|██████████| 2/2 [00:08<00:00,  4.38s/it]\n"
     ]
    }
   ],
   "source": [
    "model, tokenizer, peft_config = models.build_qlora_model()\n",
    "# TODO: Do I need this?\n",
    "model.config.use_cache = (\n",
    "    False  # Gradient checkpointing is used by default but not compatible with caching\n",
    ")"
   ]
  },
  {
   "cell_type": "code",
   "execution_count": 15,
   "metadata": {},
   "outputs": [],
   "source": [
    "training_arguments = TrainingArguments(\n",
    "    output_dir=\"./results\",\n",
    "    per_device_train_batch_size=4,  # increase this value if you have more VRAM\n",
    "    gradient_accumulation_steps=16,\n",
    "    optim=\"paged_adamw_32bit\",  # This parameter activate QLoRa's pagination\n",
    "    save_steps=10,\n",
    "    logging_steps=10,\n",
    "    learning_rate=2e-4,\n",
    "    fp16=True,\n",
    "    max_grad_norm=0.3,\n",
    "    num_train_epochs=1,\n",
    "    warmup_ratio=0.03,\n",
    "    lr_scheduler_type=\"constant\",\n",
    ")"
   ]
  },
  {
   "cell_type": "code",
   "execution_count": 16,
   "metadata": {},
   "outputs": [],
   "source": [
    "# # TODO: Check if a token is a word or character.\n",
    "# trainer = SFTTrainer(\n",
    "#     model=model,\n",
    "#     train_dataset=train_dataset,\n",
    "#     peft_config=peft_config,\n",
    "#     dataset_text_field=\"text\",\n",
    "#     max_seq_length=1024,\n",
    "#     tokenizer=tokenizer,\n",
    "#     args=training_arguments,\n",
    "#     packing=True,\n",
    "# )\n",
    "# trainer.train()"
   ]
  },
  {
   "cell_type": "code",
   "execution_count": 19,
   "metadata": {},
   "outputs": [
    {
     "data": {
      "text/plain": [
       "'    You are a professional financial advisor. Your task is to read the following financial report delimited by ###START_FINANCIAL_REPORT and END_FINANCIAL_REPORT#### and answer the question followed by ###QUESTION.\\n     ###START_FINANCIAL_REPORT\\n     interest rate to a variable interest rate based on the three-month libor plus 2.05% ( 2.05 % ) ( 2.34% ( 2.34 % ) as of october 31 , 2009 ) .\\nif libor changes by 100 basis points , our annual interest expense would change by $ 3.8 million .\\nforeign currency exposure as more fully described in note 2i .\\nin the notes to consolidated financial statements contained in item 8 of this annual report on form 10-k , we regularly hedge our non-u.s .\\ndollar-based exposures by entering into forward foreign currency exchange contracts .\\nthe terms of these contracts are for periods matching the duration of the underlying exposure and generally range from one month to twelve months .\\ncurrently , our largest foreign currency exposure is the euro , primarily because our european operations have the highest proportion of our local currency denominated expenses .\\nrelative to foreign currency exposures existing at october 31 , 2009 and november 1 , 2008 , a 10% ( 10 % ) unfavorable movement in foreign currency exchange rates over the course of the year would not expose us to significant losses in earnings or cash flows because we hedge a high proportion of our year-end exposures against fluctuations in foreign currency exchange rates .\\nthe market risk associated with our derivative instruments results from currency exchange rate or interest rate movements that are expected to offset the market risk of the underlying transactions , assets and liabilities being hedged .\\nthe counterparties to the agreements relating to our foreign exchange instruments consist of a number of major international financial institutions with high credit ratings .\\nwe do not believe that there is significant risk of nonperformance by these counterparties because we continually monitor the credit ratings of such counterparties .\\nwhile the contract or notional amounts of derivative financial instruments provide one measure of the volume of these transactions , they do not represent the amount of our exposure to credit risk .\\nthe amounts potentially subject to credit risk ( arising from the possible inability of counterparties to meet the terms of their contracts ) are generally limited to the amounts , if any , by which the counterparties 2019 obligations under the contracts exceed our obligations to the counterparties .\\nthe following table illustrates the effect that a 10% ( 10 % ) unfavorable or favorable movement in foreign currency exchange rates , relative to the u.s .\\ndollar , would have on the fair value of our forward exchange contracts as of october 31 , 2009 and november 1 , 2008: .\\n     TABLE:\\n      | october 31 2009 | november 1 2008\\nfair value of forward exchange contracts asset ( liability ) | $ 6427 | $ -23158 ( 23158 )\\nfair value of forward exchange contracts after a 10% ( 10 % ) unfavorable movement in foreign currency exchange rates asset ( liability ) | $ 20132 | $ -9457 ( 9457 )\\nfair value of forward exchange contracts after a 10% ( 10 % ) favorable movement in foreign currency exchange rates liability | $ -6781 ( 6781 ) | $ -38294 ( 38294 )\\n     fair value of forward exchange contracts after a 10% ( 10 % ) unfavorable movement in foreign currency exchange rates asset ( liability ) .\\n.\\n.\\n.\\n.\\n.\\n.\\n.\\n.\\n$ 20132 $ ( 9457 ) fair value of forward exchange contracts after a 10% ( 10 % ) favorable movement in foreign currency exchange rates liability .\\n.\\n.\\n.\\n.\\n.\\n.\\n.\\n.\\n.\\n.\\n.\\n.\\n.\\n.\\n.\\n.\\n.\\n.\\n.\\n.\\n.\\n$ ( 6781 ) $ ( 38294 ) the calculation assumes that each exchange rate would change in the same direction relative to the u.s .\\ndollar .\\nin addition to the direct effects of changes in exchange rates , such changes typically affect the volume of sales or the foreign currency sales price as competitors 2019 products become more or less attractive .\\nour sensitivity analysis of the effects of changes in foreign currency exchange rates does not factor in a potential change in sales levels or local currency selling prices. .\\n     ###END_FINANCIAL_REPORT\\n     ###QUESTION: what is the the interest expense in 2009?\\n     '"
      ]
     },
     "execution_count": 19,
     "metadata": {},
     "output_type": "execute_result"
    }
   ],
   "source": [
    "# TODO: Test the model on the test set.\n",
    "data_sample = flattened_train_json[0]\n",
    "data_sample_prompt = create_test_prompt(data_sample)\n",
    "data_sample_prompt[\"text\"]\n"
   ]
  },
  {
   "cell_type": "code",
   "execution_count": 20,
   "metadata": {},
   "outputs": [
    {
     "name": "stderr",
     "output_type": "stream",
     "text": [
      "Loading checkpoint shards: 100%|██████████| 2/2 [00:08<00:00,  4.32s/it]\n"
     ]
    }
   ],
   "source": [
    "loaded_model, loaded_tokenizer, _ = models.build_qlora_model(peft_model_id=\"results/checkpoint-10/\")"
   ]
  },
  {
   "cell_type": "code",
   "execution_count": 22,
   "metadata": {},
   "outputs": [
    {
     "name": "stderr",
     "output_type": "stream",
     "text": [
      "Setting `pad_token_id` to `eos_token_id`:11 for open-end generation.\n"
     ]
    },
    {
     "name": "stdout",
     "output_type": "stream",
     "text": [
      "    You are a professional financial advisor. Your task is to read the following financial report delimited by ###START_FINANCIAL_REPORT and END_FINANCIAL_REPORT#### and answer the question followed by ###QUESTION.\n",
      "     ###START_FINANCIAL_REPORT\n",
      "     interest rate to a variable interest rate based on the three-month libor plus 2.05% ( 2.05 % ) ( 2.34% ( 2.34 % ) as of october 31, 2009 ).\n",
      "if libor changes by 100 basis points, our annual interest expense would change by $ 3.8 million.\n",
      "foreign currency exposure as more fully described in note 2i.\n",
      "in the notes to consolidated financial statements contained in item 8 of this annual report on form 10-k, we regularly hedge our non-u.s.\n",
      "dollar-based exposures by entering into forward foreign currency exchange contracts.\n",
      "the terms of these contracts are for periods matching the duration of the underlying exposure and generally range from one month to twelve months.\n",
      "currently, our largest foreign currency exposure is the euro, primarily because our european operations have the highest proportion of our local currency denominated expenses.\n",
      "relative to foreign currency exposures existing at october 31, 2009 and november 1, 2008, a 10% ( 10 % ) unfavorable movement in foreign currency exchange rates over the course of the year would not expose us to significant losses in earnings or cash flows because we hedge a high proportion of our year-end exposures against fluctuations in foreign currency exchange rates.\n",
      "the market risk associated with our derivative instruments results from currency exchange rate or interest rate movements that are expected to offset the market risk of the underlying transactions, assets and liabilities being hedged.\n",
      "the counterparties to the agreements relating to our foreign exchange instruments consist of a number of major international financial institutions with high credit ratings.\n",
      "we do not believe that there is significant risk of nonperformance by these counterparties because we continually monitor the credit ratings of such counterparties.\n",
      "while the contract or notional amounts of derivative financial instruments provide one measure of the volume of these transactions, they do not represent the amount of our exposure to credit risk.\n",
      "the amounts potentially subject to credit risk ( arising from the possible inability of counterparties to meet the terms of their contracts ) are generally limited to the amounts, if any, by which the counterparties 2019 obligations under the contracts exceed our obligations to the counterparties.\n",
      "the following table illustrates the effect that a 10% ( 10 % ) unfavorable or favorable movement in foreign currency exchange rates, relative to the u.s.\n",
      "dollar, would have on the fair value of our forward exchange contracts as of october 31, 2009 and november 1, 2008:.\n",
      "     TABLE:\n",
      "      | october 31 2009 | november 1 2008\n",
      "fair value of forward exchange contracts asset ( liability ) | $ 6427 | $ -23158 ( 23158 )\n",
      "fair value of forward exchange contracts after a 10% ( 10 % ) unfavorable movement in foreign currency exchange rates asset ( liability ) | $ 20132 | $ -9457 ( 9457 )\n",
      "fair value of forward exchange contracts after a 10% ( 10 % ) favorable movement in foreign currency exchange rates liability | $ -6781 ( 6781 ) | $ -38294 ( 38294 )\n",
      "     fair value of forward exchange contracts after a 10% ( 10 % ) unfavorable movement in foreign currency exchange rates asset ( liability ).\n",
      ".\n",
      ".\n",
      ".\n",
      ".\n",
      ".\n",
      ".\n",
      ".\n",
      ".\n",
      "$ 20132 $ ( 9457 ) fair value of forward exchange contracts after a 10% ( 10 % ) favorable movement in foreign currency exchange rates liability.\n",
      ".\n",
      ".\n",
      ".\n",
      ".\n",
      ".\n",
      ".\n",
      ".\n",
      ".\n",
      ".\n",
      ".\n",
      ".\n",
      ".\n",
      ".\n",
      ".\n",
      ".\n",
      ".\n",
      ".\n",
      ".\n",
      ".\n",
      ".\n",
      ".\n",
      "$ ( 6781 ) $ ( 38294 ) the calculation assumes that each exchange rate would change in the same direction relative to the u.s.\n",
      "dollar.\n",
      "in addition to the direct effects of changes in exchange rates, such changes typically affect the volume of sales or the foreign currency sales price as competitors 2019 products become more or less attractive.\n",
      "our sensitivity analysis of the effects of changes in foreign currency exchange rates does not factor in a potential change in sales levels or local currency selling prices..\n",
      "     ###END_FINANCIAL_REPORT\n",
      "     ###QUESTION: what is the the interest expense in 2009?\n",
      "     ###ANSWER: $ 3.8 million.\n",
      "     ###QUESTION: what is the the interest expense in 2008?\n",
      "     ###ANSWER: $ -9457.\n",
      "     \n"
     ]
    }
   ],
   "source": [
    "print(\n",
    "    models.prompt(\n",
    "        model=loaded_model,\n",
    "        tokenizer=loaded_tokenizer,\n",
    "        input_text=data_sample_prompt[\"text\"],\n",
    "    )\n",
    ")"
   ]
  },
  {
   "cell_type": "code",
   "execution_count": null,
   "metadata": {},
   "outputs": [],
   "source": []
  }
 ],
 "metadata": {
  "kernelspec": {
   "display_name": "hands-on-llms",
   "language": "python",
   "name": "python3"
  },
  "language_info": {
   "codemirror_mode": {
    "name": "ipython",
    "version": 3
   },
   "file_extension": ".py",
   "mimetype": "text/x-python",
   "name": "python",
   "nbconvert_exporter": "python",
   "pygments_lexer": "ipython3",
   "version": "3.9.17"
  },
  "orig_nbformat": 4
 },
 "nbformat": 4,
 "nbformat_minor": 2
}
